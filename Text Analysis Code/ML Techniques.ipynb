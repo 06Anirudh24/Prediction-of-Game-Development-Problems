{
 "cells": [
  {
   "cell_type": "code",
   "execution_count": 1,
   "metadata": {},
   "outputs": [],
   "source": [
    "import pandas as pd\n",
    "import numpy as np\n",
    "from imblearn.over_sampling import SMOTE"
   ]
  },
  {
   "cell_type": "code",
   "execution_count": 2,
   "metadata": {},
   "outputs": [],
   "source": [
    "fileloc='D:/data/aman_api_postmatem/data/'"
   ]
  },
  {
   "cell_type": "code",
   "execution_count": 3,
   "metadata": {},
   "outputs": [],
   "source": [
    "sm = SMOTE(random_state=42)\n",
    "for i in range(1,29):\n",
    "    fname=fileloc+str(i)+'.csv'\n",
    "    df=np.genfromtxt(fname,delimiter=',')\n",
    "    datan=df[:,0:-1]\n",
    "    out=df[:,-1]\n",
    "    X_res, y_res = sm.fit_resample(datan,out)\n",
    "    y=y_res.reshape(-1,1)\n",
    "    d=np.concatenate((X_res,y),axis=1)\n",
    "    fname=fileloc+str(28+i)+\".csv\"\n",
    "    np.savetxt(fname,d, delimiter=',', fmt='%f')"
   ]
  },
  {
   "cell_type": "code",
   "execution_count": 38,
   "metadata": {},
   "outputs": [],
   "source": [
    "from sklearn.neural_network import MLPClassifier\n",
    "from sklearn.preprocessing import MinMaxScaler\n",
    "from sklearn.ensemble import BaggingClassifier\n",
    "from sklearn.neighbors import KNeighborsClassifier\n",
    "from sklearn.ensemble import RandomForestClassifier\n",
    "from sklearn.ensemble import ExtraTreesClassifier\n",
    "from sklearn.ensemble import AdaBoostClassifier\n",
    "from sklearn.ensemble import GradientBoostingClassifier\n",
    "from sklearn.linear_model import LogisticRegression\n",
    "from sklearn.tree import DecisionTreeClassifier\n",
    "from sklearn.naive_bayes import MultinomialNB\n",
    "from sklearn.naive_bayes import BernoulliNB\n",
    "from sklearn.naive_bayes import GaussianNB\n",
    "from sklearn.neighbors import KNeighborsClassifier\n",
    "from sklearn.svm import SVC"
   ]
  },
  {
   "cell_type": "code",
   "execution_count": 40,
   "metadata": {},
   "outputs": [],
   "source": [
    "def modeln1(trdata,tract,tsdata):\n",
    "    model = KNeighborsClassifier(n_neighbors=5)\n",
    "    model.fit(trdata,tract)\n",
    "    pred= model.predict(tsdata)\n",
    "    pred1=model.predict_proba(tsdata)\n",
    "    return pred,pred1\n",
    "def modeln2(trdata,tract,tsdata):\n",
    "    model = SVC(kernel = 'linear', C = 1,probability=True)\n",
    "    model.fit(trdata,tract)\n",
    "    pred= model.predict(tsdata)\n",
    "    pred1=model.predict_proba(tsdata)\n",
    "    return pred,pred1\n",
    "def modeln3(trdata,tract,tsdata):\n",
    "    model = GaussianNB()\n",
    "    model.fit(trdata,tract)\n",
    "    pred= model.predict(tsdata)\n",
    "    pred1=model.predict_proba(tsdata)\n",
    "    return pred,pred1\n",
    "def modeln4(trdata,tract,tsdata):\n",
    "    model = DecisionTreeClassifier().fit(trdata,tract)\n",
    "    pred= model.predict(tsdata)\n",
    "    pred1=model.predict_proba(tsdata)\n",
    "    return pred,pred1"
   ]
  },
  {
   "cell_type": "code",
   "execution_count": 36,
   "metadata": {},
   "outputs": [],
   "source": [
    "def normalizedata(X_train):\n",
    "    scaler = MinMaxScaler()\n",
    "    scaler.fit(X_train)\n",
    "    X_train = scaler.transform(X_train)\n",
    "    return X_train\n",
    "def model8(trdata,tract,tsdata):\n",
    "    model = BaggingClassifier(KNeighborsClassifier(),max_samples=0.5, max_features=0.5).fit(trdata,tract)\n",
    "    pred= model.predict(tsdata)\n",
    "    pred1=model.predict_proba(tsdata)\n",
    "    return pred,pred1\n",
    "def model9(trdata,tract,tsdata):\n",
    "    model = RandomForestClassifier(n_estimators=10).fit(trdata,tract)\n",
    "    model.fit(trdata,tract)\n",
    "    pred= model.predict(tsdata)\n",
    "    pred1=model.predict_proba(tsdata)\n",
    "    return pred,pred1\n",
    "def model10(trdata,tract,tsdata):\n",
    "    model = ExtraTreesClassifier(n_estimators=10, max_depth=None,min_samples_split=2, random_state=0).fit(trdata,tract)\n",
    "    model.fit(trdata,tract)\n",
    "    pred= model.predict(tsdata)\n",
    "    pred1=model.predict_proba(tsdata)\n",
    "    return pred,pred1\n",
    "def model11(trdata,tract,tsdata):\n",
    "    model = AdaBoostClassifier(n_estimators=10).fit(trdata,tract)\n",
    "    pred= model.predict(tsdata)\n",
    "    pred1=model.predict_proba(tsdata)\n",
    "    return pred,pred1\n",
    "def model12(trdata,tract,tsdata):\n",
    "    model = GradientBoostingClassifier(n_estimators=10, learning_rate=1.0,max_depth=1, random_state=0).fit(trdata,tract)\n",
    "    pred= model.predict(tsdata)\n",
    "    pred1=model.predict_proba(tsdata)\n",
    "    return pred,pred1"
   ]
  },
  {
   "cell_type": "code",
   "execution_count": 41,
   "metadata": {},
   "outputs": [
    {
     "name": "stdout",
     "output_type": "stream",
     "text": [
      "1\n",
      "2\n",
      "3\n",
      "4\n",
      "5\n",
      "6\n",
      "7\n",
      "8\n",
      "9\n",
      "10\n",
      "11\n",
      "12\n",
      "13\n",
      "14\n",
      "15\n",
      "16\n",
      "17\n",
      "18\n",
      "19\n",
      "20\n",
      "21\n",
      "22\n",
      "23\n",
      "24\n",
      "25\n",
      "26\n",
      "27\n",
      "28\n",
      "29\n",
      "30\n",
      "31\n",
      "32\n",
      "33\n",
      "34\n",
      "35\n",
      "36\n",
      "37\n",
      "38\n",
      "39\n",
      "40\n",
      "41\n",
      "42\n",
      "43\n",
      "44\n",
      "45\n",
      "46\n",
      "47\n",
      "48\n",
      "49\n",
      "50\n",
      "51\n",
      "52\n",
      "53\n",
      "54\n",
      "55\n",
      "56\n"
     ]
    }
   ],
   "source": [
    "import numpy as np\n",
    "from keras.utils import to_categorical\n",
    "from sklearn.model_selection import KFold\n",
    "kf = KFold(10)\n",
    "for i in range(1,57):\n",
    "    print(i)\n",
    "    fname=fileloc+str(i)+'.csv'\n",
    "    data=np.genfromtxt(fname,delimiter=',')\n",
    "    predvalue=np.zeros((np.shape(data)[0],6))\n",
    "    predvalue1=np.zeros((np.shape(data)[0],25))\n",
    "    data[:,0:-1]=normalizedata(data[:,0:-1])\n",
    "    for train_index, test_index in kf.split(data):\n",
    "        trdata=data[train_index,0:-1]\n",
    "        tsdata=data[test_index,0:-1]\n",
    "        tract=data[train_index,-1]\n",
    "        tsact=data[test_index,-1]\n",
    "        predvalue[test_index,0],predvalue1[test_index,0:4]=modeln1(trdata,tract,tsdata)\n",
    "        predvalue[test_index,1],predvalue1[test_index,4:8]=modeln2(trdata,tract,tsdata)\n",
    "        predvalue[test_index,2],predvalue1[test_index,8:12]=modeln3(trdata,tract,tsdata)\n",
    "        predvalue[test_index,3],predvalue1[test_index,12:16]=modeln4(trdata,tract,tsdata)\n",
    "        predvalue[test_index,4],predvalue1[test_index,16:20]=model9(trdata,tract,tsdata)\n",
    "        predvalue[test_index,5]=tsact\n",
    "        predvalue1[test_index,20:24]=to_categorical(tsact,4);\n",
    "    fname=fileloc+str(i)+'one.csv'    \n",
    "    np.savetxt(fname,predvalue, delimiter=',', fmt='%f')  \n",
    "    fname=fileloc+str(i)+'onep.csv'    \n",
    "    np.savetxt(fname,predvalue1, delimiter=',', fmt='%f')  "
   ]
  },
  {
   "cell_type": "code",
   "execution_count": 42,
   "metadata": {},
   "outputs": [],
   "source": [
    "import pandas as pd\n",
    "import numpy as np\n",
    "from sklearn.metrics import roc_curve\n",
    "from sklearn.metrics import auc"
   ]
  },
  {
   "cell_type": "code",
   "execution_count": 43,
   "metadata": {},
   "outputs": [],
   "source": [
    "rocv=np.zeros((56,5))\n",
    "\n",
    "for i in range(0,56):\n",
    "    fname= fileloc+str(i+1)+'onep.csv'\n",
    "    data=np.genfromtxt(fname,delimiter=',')\n",
    "    y1=data[:,20:24]\n",
    "    for j in range(0,5):\n",
    "        b=data[:,4*j:4*(j+1)]\n",
    "        r=np.zeros((4))\n",
    "        for k in range(0,4):\n",
    "            fpr, tpr, _ = roc_curve(y1[:, k], b[:, k])\n",
    "            r[k]=auc(fpr, tpr)\n",
    "        rocv[i,j]=np.mean(r)"
   ]
  },
  {
   "cell_type": "code",
   "execution_count": 44,
   "metadata": {},
   "outputs": [],
   "source": [
    "from sklearn.metrics import (\n",
    "    f1_score, precision_score, recall_score,accuracy_score\n",
    "    )\n",
    "\n",
    "fval=np.zeros((56,5))\n",
    "acv=np.zeros((56,5))\n",
    "\n",
    "   \n",
    "for i in range(0,56):\n",
    "    fname= fileloc+str(i+1)+'one.csv'\n",
    "    data1=np.genfromtxt(fname,delimiter=',')\n",
    "    y1=data1[:,-1]\n",
    "    for j in range(0,5):\n",
    "         fval[i,j]=f1_score(y1, data1[:,j], average=\"weighted\")\n",
    "         acv[i,j]=accuracy_score(y1, data1[:,j]) "
   ]
  },
  {
   "cell_type": "code",
   "execution_count": 45,
   "metadata": {},
   "outputs": [],
   "source": [
    "fname=fileloc+'acc.csv'    \n",
    "np.savetxt(fname,acv, delimiter=',', fmt='%f')      \n",
    "fname=fileloc+'fmea.csv'    \n",
    "np.savetxt(fname,fval, delimiter=',', fmt='%f')  \n",
    "fname=fileloc+'auc.csv'    \n",
    "np.savetxt(fname,rocv, delimiter=',', fmt='%f')     "
   ]
  },
  {
   "cell_type": "code",
   "execution_count": 31,
   "metadata": {},
   "outputs": [
    {
     "data": {
      "text/plain": [
       "(56, 5)"
      ]
     },
     "execution_count": 31,
     "metadata": {},
     "output_type": "execute_result"
    }
   ],
   "source": [
    "np.shape(rocv)"
   ]
  },
  {
   "cell_type": "code",
   "execution_count": null,
   "metadata": {},
   "outputs": [],
   "source": []
  }
 ],
 "metadata": {
  "kernelspec": {
   "display_name": "Python 3",
   "language": "python",
   "name": "python3"
  },
  "language_info": {
   "codemirror_mode": {
    "name": "ipython",
    "version": 3
   },
   "file_extension": ".py",
   "mimetype": "text/x-python",
   "name": "python",
   "nbconvert_exporter": "python",
   "pygments_lexer": "ipython3",
   "version": "3.8.5"
  }
 },
 "nbformat": 4,
 "nbformat_minor": 4
}
